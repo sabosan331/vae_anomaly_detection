{
 "cells": [
  {
   "cell_type": "code",
   "execution_count": 23,
   "metadata": {},
   "outputs": [],
   "source": [
    "import numpy as np\n",
    "import cv2\n",
    "import glob"
   ]
  },
  {
   "cell_type": "markdown",
   "metadata": {},
   "source": [
    "# OK list"
   ]
  },
  {
   "cell_type": "code",
   "execution_count": 24,
   "metadata": {},
   "outputs": [
    {
     "name": "stdout",
     "output_type": "stream",
     "text": [
      "[1000  512  512    3]\n"
     ]
    }
   ],
   "source": [
    "ok_list = glob.glob('/home/sk/data/defect_DAGM/Class6/*.png')\n",
    "ok_imgs = []\n",
    "for path in ok_list:\n",
    "    \n",
    "    img = cv2.imread(path,1)\n",
    "    ok_imgs.append(img)\n",
    "    \n",
    "print( np.array(imgs.shape) )\n",
    "np.save(\"ok.npy\",np.array(ok_imgs))"
   ]
  },
  {
   "cell_type": "markdown",
   "metadata": {},
   "source": [
    "# NG list"
   ]
  },
  {
   "cell_type": "code",
   "execution_count": null,
   "metadata": {},
   "outputs": [
    {
     "name": "stdout",
     "output_type": "stream",
     "text": [
      "[1000  512  512    3]\n"
     ]
    }
   ],
   "source": [
    "ng_list = glob.glob('/home/sk/data/defect_DAGM/Class6/*.png')\n",
    "ng_imgs = []\n",
    "for path in ng_list:\n",
    "    \n",
    "    img = cv2.imread(path,1)\n",
    "    ng_imgs.append(img)\n",
    "    \n",
    "print( np.array(imgs.shape) )\n",
    "np.save(\"ng.npy\",np.array(ng_imgs))"
   ]
  }
 ],
 "metadata": {
  "kernelspec": {
   "display_name": "Python 3",
   "language": "python",
   "name": "python3"
  },
  "language_info": {
   "codemirror_mode": {
    "name": "ipython",
    "version": 3
   },
   "file_extension": ".py",
   "mimetype": "text/x-python",
   "name": "python",
   "nbconvert_exporter": "python",
   "pygments_lexer": "ipython3",
   "version": "3.7.3"
  }
 },
 "nbformat": 4,
 "nbformat_minor": 2
}
