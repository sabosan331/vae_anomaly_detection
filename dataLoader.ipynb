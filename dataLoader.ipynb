{
 "cells": [
  {
   "cell_type": "code",
   "execution_count": 26,
   "metadata": {},
   "outputs": [],
   "source": [
    "import numpy as np\n",
    "from numpy import array, newaxis, expand_dims\n",
    "import cv2\n",
    "import glob"
   ]
  },
  {
   "cell_type": "markdown",
   "metadata": {},
   "source": [
    "# OK list"
   ]
  },
  {
   "cell_type": "code",
   "execution_count": 27,
   "metadata": {},
   "outputs": [
    {
     "name": "stdout",
     "output_type": "stream",
     "text": [
      "(1000, 128, 128, 1)\n"
     ]
    }
   ],
   "source": [
    "ok_list = glob.glob('/home/sk/data/defect_DAGM/Class4/*.png')\n",
    "ok_imgs = []\n",
    "for path in ok_list:\n",
    "    \n",
    "    img = cv2.imread(path,0)\n",
    "    img = cv2.resize(img , (128, 128) ) \n",
    "    ok_imgs.append(img)\n",
    "\n",
    "ok_imgs = np.array(ok_imgs)\n",
    "ok_imgs = expand_dims(ok_imgs, axis=3)\n",
    "\n",
    "print( np.array(ok_imgs).shape )\n",
    "np.save(\"./data/ok.npy\",np.array(ok_imgs))"
   ]
  },
  {
   "cell_type": "markdown",
   "metadata": {},
   "source": [
    "# NG list"
   ]
  },
  {
   "cell_type": "code",
   "execution_count": 28,
   "metadata": {},
   "outputs": [
    {
     "name": "stdout",
     "output_type": "stream",
     "text": [
      "(150, 128, 128, 1)\n"
     ]
    }
   ],
   "source": [
    "ng_list = glob.glob('/home/sk/data/defect_DAGM/Class4_def/*.png')\n",
    "ng_imgs = []\n",
    "for path in ng_list:\n",
    "    \n",
    "    img = cv2.imread(path,0)\n",
    "    img = cv2.resize(img , (128, 128) ) \n",
    "    ng_imgs.append(img)\n",
    "\n",
    "ng_imgs = np.array(ng_imgs)\n",
    "ng_imgs = expand_dims(ng_imgs, axis=3)\n",
    "    \n",
    "print( np.array(ng_imgs).shape )\n",
    "np.save(\"./data/ng.npy\",np.array(ng_imgs))"
   ]
  },
  {
   "cell_type": "code",
   "execution_count": null,
   "metadata": {},
   "outputs": [],
   "source": []
  }
 ],
 "metadata": {
  "kernelspec": {
   "display_name": "Python 3",
   "language": "python",
   "name": "python3"
  },
  "language_info": {
   "codemirror_mode": {
    "name": "ipython",
    "version": 3
   },
   "file_extension": ".py",
   "mimetype": "text/x-python",
   "name": "python",
   "nbconvert_exporter": "python",
   "pygments_lexer": "ipython3",
   "version": "3.7.3"
  }
 },
 "nbformat": 4,
 "nbformat_minor": 2
}
